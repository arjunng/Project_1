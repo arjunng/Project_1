{
 "cells": [
  {
   "cell_type": "code",
   "execution_count": 11,
   "metadata": {},
   "outputs": [
    {
     "data": {
      "text/plain": [
       "264"
      ]
     },
     "execution_count": 11,
     "metadata": {},
     "output_type": "execute_result"
    }
   ],
   "source": [
    "import csv\n",
    "import os\n",
    "import pandas as pd\n",
    "\n",
    "healthcare_spending = pd.read_csv(\"Data/Health Expenditure.csv\",skiprows=4)\n",
    "\n",
    "healthcare_spending = healthcare_spending[[\"Country Name\",\"Country Code\",\"Indicator Name\", \"2012\"]]\n",
    "\n",
    "healthcare_spending[\"Country Name\"].count()"
   ]
  },
  {
   "cell_type": "code",
   "execution_count": 10,
   "metadata": {},
   "outputs": [
    {
     "data": {
      "text/plain": [
       "142"
      ]
     },
     "execution_count": 10,
     "metadata": {},
     "output_type": "execute_result"
    }
   ],
   "source": [
    "happiness_report = pd.read_csv(\"Data/world-happiness-report-2005-2018 3.csv\",delimiter=\";\")\n",
    "\n",
    "#cols=[\"WVS round 1981-1984;Most people can be trusted\"]\n",
    "#happiness_report.drop(cols,axis=1,inplace=True)\n",
    "happiness_report = happiness_report[[\"Country name\",\"Year\",\"Life Ladder\",\"Log GDP per capita\",\"Social support\",\"Healthy life expectancy at birth\",\"Freedom to make life choices\",\"Generosity\",\"Perceptions of corruption\",\"Confidence in national government\"]]\n",
    "happiness_report = happiness_report.rename(columns={\"Country name\":\"Country Name\"})\n",
    "\n",
    "happiness_report = happiness_report.loc[happiness_report[\"Year\"]==2012]\n",
    "happiness_report[\"Country Name\"].count()\n"
   ]
  },
  {
   "cell_type": "code",
   "execution_count": null,
   "metadata": {},
   "outputs": [],
   "source": []
  },
  {
   "cell_type": "code",
   "execution_count": null,
   "metadata": {},
   "outputs": [],
   "source": []
  }
 ],
 "metadata": {
  "kernelspec": {
   "display_name": "Python 3",
   "language": "python",
   "name": "python3"
  },
  "language_info": {
   "codemirror_mode": {
    "name": "ipython",
    "version": 3
   },
   "file_extension": ".py",
   "mimetype": "text/x-python",
   "name": "python",
   "nbconvert_exporter": "python",
   "pygments_lexer": "ipython3",
   "version": "3.7.4"
  }
 },
 "nbformat": 4,
 "nbformat_minor": 2
}
