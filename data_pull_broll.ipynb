{
 "cells": [
  {
   "cell_type": "code",
   "execution_count": 1,
   "metadata": {},
   "outputs": [],
   "source": [
    "# Dependencies\n",
    "import pandas as pd"
   ]
  },
  {
   "cell_type": "code",
   "execution_count": 2,
   "metadata": {},
   "outputs": [],
   "source": [
    "# Economic Freedom Data from Kaggle as: https://www.kaggle.com/gsutters/economic-freedom#efw_cc.csv\n",
    "# Store the economics freedom filepath in a variable\n",
    "econ_free = \"data/efw_cc.csv\""
   ]
  },
  {
   "cell_type": "code",
   "execution_count": 3,
   "metadata": {},
   "outputs": [],
   "source": [
    "# Read our the Economic Freedom of the World Dataset with the pandas library\n",
    "econ_free_df = pd.read_csv(econ_free)"
   ]
  },
  {
   "cell_type": "code",
   "execution_count": 10,
   "metadata": {},
   "outputs": [
    {
     "data": {
      "text/plain": [
       "Index(['year', 'ISO_code', 'countries', 'ECONOMIC FREEDOM', 'rank', 'quartile',\n",
       "       '1a_government_consumption', '1b_transfers', '1c_gov_enterprises',\n",
       "       '1d_top_marg_tax_rate', '1_size_government', '2a_judicial_independence',\n",
       "       '2b_impartial_courts', '2c_protection_property_rights',\n",
       "       '2d_military_interference', '2e_integrity_legal_system',\n",
       "       '2f_legal_enforcement_contracts', '2g_restrictions_sale_real_property',\n",
       "       '2h_reliability_police', '2i_business_costs_crime',\n",
       "       '2j_gender_adjustment', '2_property_rights', '3a_money_growth',\n",
       "       '3b_std_inflation', '3c_inflation', '3d_freedom_own_foreign_currency',\n",
       "       '3_sound_money', '4a_tariffs', '4b_regulatory_trade_barriers',\n",
       "       '4c_black_market', '4d_control_movement_capital_ppl', '4_trade',\n",
       "       '5a_credit_market_reg', '5b_labor_market_reg', '5c_business_reg',\n",
       "       '5_regulation'],\n",
       "      dtype='object')"
      ]
     },
     "execution_count": 10,
     "metadata": {},
     "output_type": "execute_result"
    }
   ],
   "source": [
    "# Show just the header\n",
    "# econ_free_df.head()\n",
    "# Show just the columns\n",
    "econ_free_df.columns"
   ]
  },
  {
   "cell_type": "code",
   "execution_count": 11,
   "metadata": {},
   "outputs": [],
   "source": [
    "econ_free_reduced_df = pd.DataFrame(econ_free_df[[\"year\", \"countries\", \"ECONOMIC FREEDOM\", \"rank\", \n",
    "                                                  \"quartile\", \"2e_integrity_legal_system\", \"3c_inflation\",\n",
    "                                                  \"5_regulation\"]])"
   ]
  },
  {
   "cell_type": "code",
   "execution_count": 12,
   "metadata": {},
   "outputs": [
    {
     "data": {
      "text/html": [
       "<div>\n",
       "<style scoped>\n",
       "    .dataframe tbody tr th:only-of-type {\n",
       "        vertical-align: middle;\n",
       "    }\n",
       "\n",
       "    .dataframe tbody tr th {\n",
       "        vertical-align: top;\n",
       "    }\n",
       "\n",
       "    .dataframe thead th {\n",
       "        text-align: right;\n",
       "    }\n",
       "</style>\n",
       "<table border=\"1\" class=\"dataframe\">\n",
       "  <thead>\n",
       "    <tr style=\"text-align: right;\">\n",
       "      <th></th>\n",
       "      <th>year</th>\n",
       "      <th>countries</th>\n",
       "      <th>ECONOMIC FREEDOM</th>\n",
       "      <th>rank</th>\n",
       "      <th>quartile</th>\n",
       "      <th>2e_integrity_legal_system</th>\n",
       "      <th>3c_inflation</th>\n",
       "      <th>5_regulation</th>\n",
       "    </tr>\n",
       "  </thead>\n",
       "  <tbody>\n",
       "    <tr>\n",
       "      <th>0</th>\n",
       "      <td>2016</td>\n",
       "      <td>Albania</td>\n",
       "      <td>7.54</td>\n",
       "      <td>34.0</td>\n",
       "      <td>1.0</td>\n",
       "      <td>4.166667</td>\n",
       "      <td>9.74360</td>\n",
       "      <td>6.906901</td>\n",
       "    </tr>\n",
       "    <tr>\n",
       "      <th>1</th>\n",
       "      <td>2016</td>\n",
       "      <td>Algeria</td>\n",
       "      <td>4.99</td>\n",
       "      <td>159.0</td>\n",
       "      <td>4.0</td>\n",
       "      <td>5.000000</td>\n",
       "      <td>8.72046</td>\n",
       "      <td>5.268992</td>\n",
       "    </tr>\n",
       "    <tr>\n",
       "      <th>2</th>\n",
       "      <td>2016</td>\n",
       "      <td>Angola</td>\n",
       "      <td>5.17</td>\n",
       "      <td>155.0</td>\n",
       "      <td>4.0</td>\n",
       "      <td>4.166667</td>\n",
       "      <td>3.05400</td>\n",
       "      <td>5.518500</td>\n",
       "    </tr>\n",
       "    <tr>\n",
       "      <th>3</th>\n",
       "      <td>2016</td>\n",
       "      <td>Argentina</td>\n",
       "      <td>4.84</td>\n",
       "      <td>160.0</td>\n",
       "      <td>4.0</td>\n",
       "      <td>3.333333</td>\n",
       "      <td>2.00000</td>\n",
       "      <td>5.369019</td>\n",
       "    </tr>\n",
       "    <tr>\n",
       "      <th>4</th>\n",
       "      <td>2016</td>\n",
       "      <td>Armenia</td>\n",
       "      <td>7.57</td>\n",
       "      <td>29.0</td>\n",
       "      <td>1.0</td>\n",
       "      <td>5.000000</td>\n",
       "      <td>9.74600</td>\n",
       "      <td>7.378069</td>\n",
       "    </tr>\n",
       "  </tbody>\n",
       "</table>\n",
       "</div>"
      ],
      "text/plain": [
       "   year  countries  ECONOMIC FREEDOM   rank  quartile  \\\n",
       "0  2016    Albania              7.54   34.0       1.0   \n",
       "1  2016    Algeria              4.99  159.0       4.0   \n",
       "2  2016     Angola              5.17  155.0       4.0   \n",
       "3  2016  Argentina              4.84  160.0       4.0   \n",
       "4  2016    Armenia              7.57   29.0       1.0   \n",
       "\n",
       "   2e_integrity_legal_system  3c_inflation  5_regulation  \n",
       "0                   4.166667       9.74360      6.906901  \n",
       "1                   5.000000       8.72046      5.268992  \n",
       "2                   4.166667       3.05400      5.518500  \n",
       "3                   3.333333       2.00000      5.369019  \n",
       "4                   5.000000       9.74600      7.378069  "
      ]
     },
     "execution_count": 12,
     "metadata": {},
     "output_type": "execute_result"
    }
   ],
   "source": [
    "econ_free_reduced_df.head()"
   ]
  },
  {
   "cell_type": "code",
   "execution_count": null,
   "metadata": {},
   "outputs": [],
   "source": []
  }
 ],
 "metadata": {
  "kernelspec": {
   "display_name": "Python [conda env:PythonData] *",
   "language": "python",
   "name": "conda-env-PythonData-py"
  },
  "language_info": {
   "codemirror_mode": {
    "name": "ipython",
    "version": 3
   },
   "file_extension": ".py",
   "mimetype": "text/x-python",
   "name": "python",
   "nbconvert_exporter": "python",
   "pygments_lexer": "ipython3",
   "version": "3.6.9"
  }
 },
 "nbformat": 4,
 "nbformat_minor": 2
}
